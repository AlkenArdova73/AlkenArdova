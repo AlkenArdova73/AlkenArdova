{
  "nbformat": 4,
  "nbformat_minor": 0,
  "metadata": {
    "colab": {
      "provenance": []
    },
    "kernelspec": {
      "name": "python3",
      "display_name": "Python 3"
    },
    "language_info": {
      "name": "python"
    }
  },
  "cells": [
    {
      "cell_type": "markdown",
      "source": [
        "Python Intro"
      ],
      "metadata": {
        "id": "FHnRHt9i_QkF"
      }
    },
    {
      "cell_type": "code",
      "source": [
        "PHONE_NUMBER=\"+62801-0029-9000\"\n",
        "New=PHONE_NUMBER.replace(\"+628\",\"0\").replace(\"-\",\"\")\n",
        "\n",
        "print(New)"
      ],
      "metadata": {
        "colab": {
          "base_uri": "https://localhost:8080/"
        },
        "id": "6ls_HnDa_4ey",
        "outputId": "b7e1565f-7c46-49bd-d490-c15cef074730"
      },
      "execution_count": null,
      "outputs": [
        {
          "output_type": "stream",
          "name": "stdout",
          "text": [
            "00100299000\n"
          ]
        }
      ]
    },
    {
      "cell_type": "code",
      "source": [
        "phone_number=\"+62801-0029-9000\"\n",
        "phone_number=phone_number.replace(\"+628\",\"0\").replace(\"-\",\"\")\n",
        "print(phone_number)"
      ],
      "metadata": {
        "colab": {
          "base_uri": "https://localhost:8080/"
        },
        "id": "SOSrdnnaF1JP",
        "outputId": "6fb84748-c6ef-41ab-a8d7-dd37bd35adab"
      },
      "execution_count": null,
      "outputs": [
        {
          "output_type": "stream",
          "name": "stdout",
          "text": [
            "00100299000\n"
          ]
        }
      ]
    },
    {
      "cell_type": "code",
      "source": [
        "name=\"wand\"\n",
        "age =\"12\"\n",
        "\n",
        "print(name+age)"
      ],
      "metadata": {
        "colab": {
          "base_uri": "https://localhost:8080/"
        },
        "id": "H9iMvPDpGes5",
        "outputId": "56ec855f-8a9d-4107-b4b4-e9197f56e6ae"
      },
      "execution_count": null,
      "outputs": [
        {
          "output_type": "stream",
          "name": "stdout",
          "text": [
            "wand12\n"
          ]
        }
      ]
    },
    {
      "cell_type": "code",
      "source": [
        "new_list=[]\n",
        "new_list"
      ],
      "metadata": {
        "colab": {
          "base_uri": "https://localhost:8080/"
        },
        "id": "2vKKmDddIUVP",
        "outputId": "9344847c-dfb4-4edd-c335-b1b2b9bbf471"
      },
      "execution_count": null,
      "outputs": [
        {
          "output_type": "execute_result",
          "data": {
            "text/plain": [
              "[]"
            ]
          },
          "metadata": {},
          "execution_count": 34
        }
      ]
    },
    {
      "cell_type": "code",
      "source": [
        "foods=[\"Soto\",\"Ketoprak\",\"Bakso\",\"Nasi Goreng\",\"Gado\"]\n",
        "print(foods)"
      ],
      "metadata": {
        "colab": {
          "base_uri": "https://localhost:8080/"
        },
        "id": "tP8iBOBsIcuw",
        "outputId": "8a02e9c6-7039-4a8d-d80d-31ec72f2f92d"
      },
      "execution_count": null,
      "outputs": [
        {
          "output_type": "stream",
          "name": "stdout",
          "text": [
            "['Soto', 'Ketoprak', 'Bakso', 'Nasi Goreng', 'Gado']\n"
          ]
        }
      ]
    },
    {
      "cell_type": "code",
      "source": [],
      "metadata": {
        "id": "3ysTddvxK8gt"
      },
      "execution_count": null,
      "outputs": []
    },
    {
      "cell_type": "code",
      "source": [
        "foods[3]"
      ],
      "metadata": {
        "colab": {
          "base_uri": "https://localhost:8080/",
          "height": 35
        },
        "id": "iZ6WYXGnKKQy",
        "outputId": "2be49e00-465e-4d2e-9073-9dda529e6ad8"
      },
      "execution_count": null,
      "outputs": [
        {
          "output_type": "execute_result",
          "data": {
            "text/plain": [
              "'Nasi Goreng'"
            ],
            "application/vnd.google.colaboratory.intrinsic+json": {
              "type": "string"
            }
          },
          "metadata": {},
          "execution_count": 5
        }
      ]
    },
    {
      "cell_type": "code",
      "source": [
        "foods[4:]"
      ],
      "metadata": {
        "id": "1GSDbCaiKPR3"
      },
      "execution_count": null,
      "outputs": []
    },
    {
      "cell_type": "code",
      "source": [],
      "metadata": {
        "id": "HJrS1GabK9fY"
      },
      "execution_count": null,
      "outputs": []
    },
    {
      "cell_type": "code",
      "source": [
        "foods=[\"Soto\",\"Ketoprak\",\"Bakso\",\"Nasi Goreng\",\"Gado\"]\n",
        "len(foods)"
      ],
      "metadata": {
        "colab": {
          "base_uri": "https://localhost:8080/"
        },
        "id": "gk19qVppK9in",
        "outputId": "9c5bcaf5-7289-435c-98e6-5553cd2a73a2"
      },
      "execution_count": null,
      "outputs": [
        {
          "output_type": "execute_result",
          "data": {
            "text/plain": [
              "5"
            ]
          },
          "metadata": {},
          "execution_count": 8
        }
      ]
    },
    {
      "cell_type": "code",
      "source": [
        "num_list=[\"12\",\"14\",[16,20,30]]\n",
        "#Grab 14\n",
        "a = num_list[0]\n",
        "b = num_list[2]\n",
        "c = num_list[2][1"
      ],
      "metadata": {
        "colab": {
          "base_uri": "https://localhost:8080/",
          "height": 130
        },
        "id": "LPzORKh6LdU-",
        "outputId": "76680cd6-ba0e-4be3-8421-70a2e26519cc"
      },
      "execution_count": null,
      "outputs": [
        {
          "output_type": "error",
          "ename": "SyntaxError",
          "evalue": "ignored",
          "traceback": [
            "\u001b[0;36m  File \u001b[0;32m\"<ipython-input-21-ad412926ee06>\"\u001b[0;36m, line \u001b[0;32m5\u001b[0m\n\u001b[0;31m    c = num_list[2][1\u001b[0m\n\u001b[0m                     ^\u001b[0m\n\u001b[0;31mSyntaxError\u001b[0m\u001b[0;31m:\u001b[0m unexpected EOF while parsing\n"
          ]
        }
      ]
    },
    {
      "cell_type": "code",
      "source": [
        "num_list=[\"12\",\"14\",[16,20,30]]\n",
        "a = num_list[1]\n",
        "b = num_list[2]\n",
        "c = num_list[2][1]\n",
        "\n",
        "print(a,b,c)"
      ],
      "metadata": {
        "colab": {
          "base_uri": "https://localhost:8080/"
        },
        "id": "kTsb0KLnM5bi",
        "outputId": "d21eeb9a-3cf7-41a7-d3fd-f8da29a7a008"
      },
      "execution_count": null,
      "outputs": [
        {
          "output_type": "stream",
          "name": "stdout",
          "text": [
            "14 [16, 20, 30] 20\n"
          ]
        }
      ]
    },
    {
      "cell_type": "code",
      "source": [
        "num_list=[‘12’,’14’,[16,20,30]]\n",
        "num_list[1]"
      ],
      "metadata": {
        "colab": {
          "base_uri": "https://localhost:8080/",
          "height": 130
        },
        "id": "DzkOF6f6MM8m",
        "outputId": "b0aa227e-aa82-45e8-8fdd-d85689e7aac4"
      },
      "execution_count": null,
      "outputs": [
        {
          "output_type": "error",
          "ename": "SyntaxError",
          "evalue": "ignored",
          "traceback": [
            "\u001b[0;36m  File \u001b[0;32m\"<ipython-input-17-3c44ff84f3cf>\"\u001b[0;36m, line \u001b[0;32m1\u001b[0m\n\u001b[0;31m    num_list=[‘12’,’14’,[16,20,30]]\u001b[0m\n\u001b[0m                 ^\u001b[0m\n\u001b[0;31mSyntaxError\u001b[0m\u001b[0;31m:\u001b[0m invalid character in identifier\n"
          ]
        }
      ]
    },
    {
      "cell_type": "code",
      "source": [
        "numbers=[2,3,6,20,22]\n",
        "min(numbers)"
      ],
      "metadata": {
        "colab": {
          "base_uri": "https://localhost:8080/"
        },
        "id": "ECR_3q6HNV2i",
        "outputId": "8d360a8e-56ba-4582-98e2-28343e10f119"
      },
      "execution_count": null,
      "outputs": [
        {
          "output_type": "execute_result",
          "data": {
            "text/plain": [
              "2"
            ]
          },
          "metadata": {},
          "execution_count": 26
        }
      ]
    },
    {
      "cell_type": "code",
      "source": [
        "max(numbers)"
      ],
      "metadata": {
        "colab": {
          "base_uri": "https://localhost:8080/"
        },
        "id": "IbYBzKNfNfAL",
        "outputId": "2da42eea-923f-4d13-e793-88a61024b5c2"
      },
      "execution_count": null,
      "outputs": [
        {
          "output_type": "execute_result",
          "data": {
            "text/plain": [
              "22"
            ]
          },
          "metadata": {},
          "execution_count": 27
        }
      ]
    },
    {
      "cell_type": "code",
      "source": [
        "sum(numbers)"
      ],
      "metadata": {
        "colab": {
          "base_uri": "https://localhost:8080/"
        },
        "id": "JrM67L4FNgyZ",
        "outputId": "4e770b0c-1158-4235-a784-87bc4ee2672c"
      },
      "execution_count": null,
      "outputs": [
        {
          "output_type": "execute_result",
          "data": {
            "text/plain": [
              "53"
            ]
          },
          "metadata": {},
          "execution_count": 28
        }
      ]
    },
    {
      "cell_type": "code",
      "source": [
        "numbers[1:4]"
      ],
      "metadata": {
        "colab": {
          "base_uri": "https://localhost:8080/"
        },
        "id": "ExrdcxFwNmp-",
        "outputId": "e60e676b-e78e-4730-8d50-9de507f1ab3d"
      },
      "execution_count": null,
      "outputs": [
        {
          "output_type": "execute_result",
          "data": {
            "text/plain": [
              "[3, 6, 20]"
            ]
          },
          "metadata": {},
          "execution_count": 30
        }
      ]
    },
    {
      "cell_type": "code",
      "source": [
        "numbers.append(4)\n",
        "print(numbers)"
      ],
      "metadata": {
        "colab": {
          "base_uri": "https://localhost:8080/"
        },
        "id": "uTvjZTPwNwkY",
        "outputId": "d79b42a1-4064-47cf-a608-9dec8270f70d"
      },
      "execution_count": null,
      "outputs": [
        {
          "output_type": "stream",
          "name": "stdout",
          "text": [
            "[2, 3, 6, 20, 22, 50, 50, 50, 50, 50, 50, 3, 4]\n"
          ]
        }
      ]
    },
    {
      "cell_type": "code",
      "source": [
        "fruit_dict={\"Name\":[\"Banana\",\"Apple\"],\"Color\":[\"Yellow\",\"Red\"],\"Quantity\":[10,25]}\n",
        "dict.keys(fruit_dict)"
      ],
      "metadata": {
        "colab": {
          "base_uri": "https://localhost:8080/"
        },
        "id": "aXbgGSPQO5xg",
        "outputId": "45a2094a-1e4d-445d-eae8-db775e6fa6be"
      },
      "execution_count": null,
      "outputs": [
        {
          "output_type": "execute_result",
          "data": {
            "text/plain": [
              "dict_keys(['Name', 'Color', 'Quantity'])"
            ]
          },
          "metadata": {},
          "execution_count": 55
        }
      ]
    },
    {
      "cell_type": "code",
      "source": [
        "HP_dict={\"Brand\":[\"Samsung\",\"Dell\",\"Apple\"],\n",
        "           \"Stock\":[\"27\",\"20\",\"10\"],\n",
        "           \"Type\":[\"PC\",\"Laptop\", \"Tablet\"]\n",
        "}\n",
        "\n",
        "dict.keys(HP_dict)"
      ],
      "metadata": {
        "colab": {
          "base_uri": "https://localhost:8080/"
        },
        "id": "YPQtGcpAPfPD",
        "outputId": "efc43aa7-137d-47f4-8971-df2d49c26782"
      },
      "execution_count": null,
      "outputs": [
        {
          "output_type": "execute_result",
          "data": {
            "text/plain": [
              "dict_keys(['Brand', 'Stock', 'Type'])"
            ]
          },
          "metadata": {},
          "execution_count": 57
        }
      ]
    },
    {
      "cell_type": "code",
      "source": [
        "fruit_dict={\"Fruit\":[\"Mango\",\"Banana\"],\"Color\":[\"Blue\",\"Red\"],\"Quantity\":[10,25]}\n",
        "fruit_dict[\"Quantity\"]"
      ],
      "metadata": {
        "colab": {
          "base_uri": "https://localhost:8080/"
        },
        "id": "D7uz3n9iRR_m",
        "outputId": "2bcb4719-cc2a-4866-87a3-5cfcd323232b"
      },
      "execution_count": null,
      "outputs": [
        {
          "output_type": "execute_result",
          "data": {
            "text/plain": [
              "[10, 25]"
            ]
          },
          "metadata": {},
          "execution_count": 65
        }
      ]
    },
    {
      "cell_type": "code",
      "source": [
        "fruit_dict[\"Color\"][1]"
      ],
      "metadata": {
        "colab": {
          "base_uri": "https://localhost:8080/",
          "height": 35
        },
        "id": "6yHfFwGeRfOz",
        "outputId": "04504dd3-7cbc-49d1-d833-62c1e641e709"
      },
      "execution_count": null,
      "outputs": [
        {
          "output_type": "execute_result",
          "data": {
            "text/plain": [
              "'Red'"
            ],
            "application/vnd.google.colaboratory.intrinsic+json": {
              "type": "string"
            }
          },
          "metadata": {},
          "execution_count": 66
        }
      ]
    },
    {
      "cell_type": "code",
      "source": [
        "fruit_dict[\"Fruit\"]=[\"Jackfruit\",\"Lychee\"]\n",
        "print(fruit_dict)"
      ],
      "metadata": {
        "colab": {
          "base_uri": "https://localhost:8080/"
        },
        "id": "h2SfYOf0SfFk",
        "outputId": "33ffac23-070c-4505-ad67-5083ad0b394c"
      },
      "execution_count": null,
      "outputs": [
        {
          "output_type": "stream",
          "name": "stdout",
          "text": [
            "{'Fruit': ['Jackfruit', 'Lychee'], 'Color': ['Blue', 'Red'], 'Quantity': [10, 25]}\n"
          ]
        }
      ]
    },
    {
      "cell_type": "code",
      "source": [
        "students={\n",
        "    \"name\":[\"Budi\",\"Jessica\"],\n",
        "    \"age\":[19,24]\n",
        "}\n",
        "\n",
        "students[\"name\"]=[\"Arya\",\"Yusup\"]\n",
        "students[\"age\"][0]=22\n",
        "students"
      ],
      "metadata": {
        "colab": {
          "base_uri": "https://localhost:8080/"
        },
        "id": "eki0lWiPS-QL",
        "outputId": "4b2aab44-5d0a-4a60-c963-5e915f1c61ef"
      },
      "execution_count": null,
      "outputs": [
        {
          "output_type": "execute_result",
          "data": {
            "text/plain": [
              "{'name': ['Arya', 'Yusup'], 'age': [22, 24]}"
            ]
          },
          "metadata": {},
          "execution_count": 4
        }
      ]
    },
    {
      "cell_type": "code",
      "source": [
        "students.update({\n",
        "    \"Hobby\":[\"Belajar\",\"Koding\"]\n",
        "    \n",
        "}\n",
        ")\n",
        "students[\"name\"].append(\"Alken\")\n",
        "students"
      ],
      "metadata": {
        "colab": {
          "base_uri": "https://localhost:8080/"
        },
        "id": "7PEgFjL5T5_s",
        "outputId": "9bd8116e-0712-4982-a634-bddca8e86a21"
      },
      "execution_count": null,
      "outputs": [
        {
          "output_type": "execute_result",
          "data": {
            "text/plain": [
              "{'name': ['Arya', 'Yusup', 'Alken', 'Alken'],\n",
              " 'age': [22, 24],\n",
              " 'Hobby': ['Belajar', 'Koding']}"
            ]
          },
          "metadata": {},
          "execution_count": 10
        }
      ]
    },
    {
      "cell_type": "code",
      "source": [
        "student={\n",
        "    \"name\":[\"Budi\",\"Jessica\"],\n",
        "    \"age\":[19,24]\n",
        "}\n",
        "student[\"name\"].append(\"Amar\")\n",
        "student.update({\n",
        "    \"Gender\":[\"Male\",\"Female\"]})\n",
        "\n",
        "student"
      ],
      "metadata": {
        "colab": {
          "base_uri": "https://localhost:8080/"
        },
        "id": "O2eXUR96U0vy",
        "outputId": "03b7bdef-13dd-42de-fcad-f823b63ef409"
      },
      "execution_count": null,
      "outputs": [
        {
          "output_type": "execute_result",
          "data": {
            "text/plain": [
              "{'name': ['Budi', 'Jessica', 'Amar'],\n",
              " 'age': [19, 24],\n",
              " 'Gender': ['Male', 'Female']}"
            ]
          },
          "metadata": {},
          "execution_count": 17
        }
      ]
    },
    {
      "cell_type": "code",
      "source": [
        "Students={\n",
        "    \"name\":[\"Budi\",\"Jessica\"],\n",
        "    \"age\":[19,24]\n",
        "}\n",
        "\n",
        "Students[\"name\"].remove(\"Budi\")\n",
        "Students\n",
        "del Students[\"age\"]\n",
        "Students"
      ],
      "metadata": {
        "colab": {
          "base_uri": "https://localhost:8080/"
        },
        "id": "zqCF789BWEL5",
        "outputId": "5f6fff0c-4d1e-4dbd-ab98-f1cbd552d4a2"
      },
      "execution_count": null,
      "outputs": [
        {
          "output_type": "execute_result",
          "data": {
            "text/plain": [
              "{'name': ['Jessica']}"
            ]
          },
          "metadata": {},
          "execution_count": 23
        }
      ]
    }
  ]
}